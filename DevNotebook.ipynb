{
 "cells": [
  {
   "cell_type": "code",
   "execution_count": null,
   "metadata": {},
   "outputs": [],
   "source": [
    "import numpy as np\n",
    "import urllib\n",
    "import cv2\n",
    "import ssl\n",
    "import matplotlib.pyplot as plt\n",
    "import cvlib as cv\n",
    "from cvlib.object_detection import draw_bbox\n",
    "from datetime import datetime\n",
    "resp = urllib.request.urlopen(\"https://www.rms.nsw.gov.au/trafficreports/cameras/camera_images/humehwy_villawood.jpg\")#, context=context)\n",
    "image = np.asarray(bytearray(resp.read()), dtype=\"uint8\")\n",
    "image = cv2.imdecode(image, cv2.IMREAD_COLOR)\n",
    "bbox, label, conf = cv.detect_common_objects(image)\n",
    "\n",
    "output_image = draw_bbox(image, bbox, label, conf) \n",
    "plt.imshow(output_image)\n",
    "print(\"The number of cars in the image is \", label.count('car'))"
   ]
  },
  {
   "cell_type": "code",
   "execution_count": null,
   "metadata": {},
   "outputs": [],
   "source": [
    "from twilio.rest import Client\n",
    "\n",
    "# Twilio account details\n",
    "twilio_account_sid = ''\n",
    "twilio_auth_token = ''\n",
    "twilio_source_phone_number = 'xxx'\n",
    "\n",
    "# Create a Twilio client object instance\n",
    "client = Client(twilio_account_sid, twilio_auth_token)\n",
    "\n",
    "# Send an SMS\n",
    "message = client.messages.create(\n",
    "    body=\"build completed\",\n",
    "    from_=twilio_source_phone_number,\n",
    "    to= \"xxx\"\n",
    ")"
   ]
  },
  {
   "cell_type": "code",
   "execution_count": null,
   "metadata": {},
   "outputs": [],
   "source": []
  }
 ],
 "metadata": {
  "kernelspec": {
   "display_name": "Python 3",
   "language": "python",
   "name": "python3"
  },
  "language_info": {
   "codemirror_mode": {
    "name": "ipython",
    "version": 3
   },
   "file_extension": ".py",
   "mimetype": "text/x-python",
   "name": "python",
   "nbconvert_exporter": "python",
   "pygments_lexer": "ipython3",
   "version": "3.7.6"
  }
 },
 "nbformat": 4,
 "nbformat_minor": 4
}
